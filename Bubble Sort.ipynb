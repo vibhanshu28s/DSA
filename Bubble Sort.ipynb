{
 "cells": [
  {
   "cell_type": "code",
   "execution_count": 3,
   "id": "c712c5ab",
   "metadata": {},
   "outputs": [
    {
     "name": "stdout",
     "output_type": "stream",
     "text": [
      "Eenter Basic 30000\n",
      "Gross Salary=  49400.0\n"
     ]
    }
   ],
   "source": [
    "# Bubble sort in Python\n",
    "\n",
    "def bubbleSort(array):\n",
    "\n",
    "    for i in range(len(array)):\n",
    "        for j in range(0, len(array)- 1):\n",
    "            if array[j] > array[j + 1]:\n",
    "\n",
    "                array[j],array[j + 1]=array[j + 1],array[j]\n",
    "\n",
    "\n",
    "data = [-2, 45, 0, 11, -9]\n",
    "\n",
    "bubbleSort(data)\n",
    "\n",
    "print('Sorted Array in Ascending Order:')\n",
    "print(data)"
   ]
  }
 ],
 "metadata": {
  "kernelspec": {
   "display_name": "Python 3 (ipykernel)",
   "language": "python",
   "name": "python3"
  },
  "language_info": {
   "codemirror_mode": {
    "name": "ipython",
    "version": 3
   },
   "file_extension": ".py",
   "mimetype": "text/x-python",
   "name": "python",
   "nbconvert_exporter": "python",
   "pygments_lexer": "ipython3",
   "version": "3.11.4"
  }
 },
 "nbformat": 4,
 "nbformat_minor": 5
}
