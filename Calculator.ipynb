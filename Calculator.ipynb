{
 "cells": [
  {
   "cell_type": "code",
   "execution_count": null,
   "id": "c5fb26ec",
   "metadata": {},
   "outputs": [],
   "source": [
    "def calculator():\n",
    "    print(\"Simple Calculator\")\n",
    "    print(\"1. Addition\")\n",
    "    print(\"2. Subtraction\")\n",
    "    print(\"3. Multiplication\")\n",
    "    print(\"4. Division\")\n",
    "\n",
    "    choice = input(\"Select operation (1/2/3/4): \")\n",
    "\n",
    "    num1 = float(input(\"Enter first number: \"))\n",
    "    num2 = float(input(\"Enter second number: \"))\n",
    "\n",
    "    if choice == '1':\n",
    "        result = num1 + num2\n",
    "        print(\"Result: \", result)\n",
    "    elif choice == '2':\n",
    "        result = num1 - num2\n",
    "        print(\"Result: \", result)\n",
    "    elif choice == '3':\n",
    "        result = num1 * num2\n",
    "        print(\"Result: \", result)\n",
    "    elif choice == '4':\n",
    "        if num2 != 0:\n",
    "            result = num1 / num2\n",
    "            print(\"Result: \", result)\n",
    "        else:\n",
    "            print(\"Error: Division by zero\")\n",
    "    else:\n",
    "        print(\"Invalid input. Please enter a valid choice.\")\n",
    "\n",
    "\n",
    "calculator()\n"
   ]
  }
 ],
 "metadata": {
  "kernelspec": {
   "display_name": "Python 3 (ipykernel)",
   "language": "python",
   "name": "python3"
  },
  "language_info": {
   "codemirror_mode": {
    "name": "ipython",
    "version": 3
   },
   "file_extension": ".py",
   "mimetype": "text/x-python",
   "name": "python",
   "nbconvert_exporter": "python",
   "pygments_lexer": "ipython3",
   "version": "3.11.4"
  }
 },
 "nbformat": 4,
 "nbformat_minor": 5
}
