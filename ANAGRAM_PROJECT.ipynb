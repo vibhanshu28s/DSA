{
 "cells": [
  {
   "cell_type": "markdown",
   "id": "c0a446a9",
   "metadata": {
    "colab_type": "text",
    "id": "view-in-github"
   },
   "source": [
    "<a href=\"https://colab.research.google.com/github/Rahul9628/anangram/blob/main/ANAGRAM_checkpoint.ipynb\" target=\"_parent\"><img src=\"https://colab.research.google.com/assets/colab-badge.svg\" alt=\"Open In Colab\"/></a>"
   ]
  },
  {
   "cell_type": "code",
   "execution_count": null,
   "id": "39a15c37",
   "metadata": {
    "id": "39a15c37"
   },
   "outputs": [],
   "source": [
    "#PROJECT 1 - Anagrams"
   ]
  },
  {
   "cell_type": "code",
   "execution_count": null,
   "id": "7d02168c",
   "metadata": {
    "id": "7d02168c",
    "outputId": "dffe6d92-3a54-470a-b94a-ac729455afae"
   },
   "outputs": [
    {
     "name": "stdout",
     "output_type": "stream",
     "text": [
      "['b', 'o', 'a', 't']\n"
     ]
    }
   ],
   "source": [
    "#step:-1.change string into a list\n",
    "w=\"boat\"\n",
    "x=list(w)\n",
    "print(x)"
   ]
  },
  {
   "cell_type": "code",
   "execution_count": null,
   "id": "2f2d3ec1",
   "metadata": {
    "id": "2f2d3ec1",
    "outputId": "ce3616be-a329-4114-fe28-c47b6a7e06a4"
   },
   "outputs": [
    {
     "name": "stdout",
     "output_type": "stream",
     "text": [
      "['a', 'o', 'b', 't']\n"
     ]
    }
   ],
   "source": [
    "#step:-2.swapping elements\n",
    "def swap(list,pos1,pos2):\n",
    "    list[pos1],list[pos2]=list[pos2],list[pos1]\n",
    "    return list\n",
    "w1=swap(x,0,2)\n",
    "print(w1)"
   ]
  },
  {
   "cell_type": "code",
   "execution_count": null,
   "id": "2c2efdc9",
   "metadata": {
    "id": "2c2efdc9",
    "outputId": "557ad729-1f55-4a1e-d052-619273378bf1"
   },
   "outputs": [
    {
     "name": "stdout",
     "output_type": "stream",
     "text": [
      "aobt\n"
     ]
    }
   ],
   "source": [
    "#step:-3.change list into string\n",
    "str=\"\"\n",
    "w3=str.join(w1)\n",
    "print(w3)"
   ]
  },
  {
   "cell_type": "code",
   "execution_count": null,
   "id": "5530f833",
   "metadata": {
    "id": "5530f833",
    "outputId": "61fa4b80-7ed6-4d55-eeb2-d382d9db9896"
   },
   "outputs": [
    {
     "name": "stdout",
     "output_type": "stream",
     "text": [
      "['c', 'r', 'e', 'a', 't', 'e']\n"
     ]
    }
   ],
   "source": [
    "#question=02\n",
    "x=\"create\"\n",
    "w=list(x)\n",
    "print(w)"
   ]
  },
  {
   "cell_type": "code",
   "execution_count": null,
   "id": "9e7d65ca",
   "metadata": {
    "id": "9e7d65ca",
    "outputId": "64adf117-7d7b-4ecf-de8f-b1f99b7786bf"
   },
   "outputs": [
    {
     "name": "stdout",
     "output_type": "stream",
     "text": [
      "['t', 'r', 'c', 'a', 'e', 'e']\n"
     ]
    }
   ],
   "source": [
    "def swap(list,pos1,pos2,pos3):\n",
    "    list[pos1],list[pos2],list[pos3]=list[pos3],list[pos1],list[pos2]\n",
    "    return list\n",
    "x1=swap(w,0,2,4)\n",
    "print(x1)"
   ]
  },
  {
   "cell_type": "code",
   "execution_count": null,
   "id": "42db2a3f",
   "metadata": {
    "id": "42db2a3f",
    "outputId": "d0b3f051-8189-4834-ab3d-84186701eff9"
   },
   "outputs": [
    {
     "name": "stdout",
     "output_type": "stream",
     "text": [
      "trcaee\n"
     ]
    }
   ],
   "source": [
    "str=\"\"\n",
    "x2=str.join(x1)\n",
    "print(x2)"
   ]
  },
  {
   "cell_type": "code",
   "execution_count": null,
   "id": "bf29fdec",
   "metadata": {
    "id": "bf29fdec",
    "outputId": "d3a553f2-f948-43ac-dbdb-c162aa1da82e"
   },
   "outputs": [
    {
     "name": "stdout",
     "output_type": "stream",
     "text": [
      "['t', 'i', 'm', 'e']\n"
     ]
    }
   ],
   "source": [
    "t=\"time\"\n",
    "x=list(t)\n",
    "print(x)"
   ]
  },
  {
   "cell_type": "code",
   "execution_count": null,
   "id": "1a522b7d",
   "metadata": {
    "id": "1a522b7d",
    "outputId": "c435c715-da5b-49a0-b4f2-a0f2cdefee5f"
   },
   "outputs": [
    {
     "name": "stdout",
     "output_type": "stream",
     "text": [
      "['e', 'i', 'm', 't']\n"
     ]
    }
   ],
   "source": [
    "def swap(list,pos1,pos2):\n",
    "    list[pos1],list[pos2]=list[pos2],list[pos1]\n",
    "    return list\n",
    "y=swap(x,0,3)\n",
    "print(y)"
   ]
  },
  {
   "cell_type": "code",
   "execution_count": null,
   "id": "db490d9d",
   "metadata": {
    "id": "db490d9d",
    "outputId": "80af0c13-6f03-49f4-fa35-b34a7fc7e4fa"
   },
   "outputs": [
    {
     "name": "stdout",
     "output_type": "stream",
     "text": [
      "eimt\n"
     ]
    }
   ],
   "source": [
    "str=\"\"\n",
    "y1=str.join(y)\n",
    "print(y1)"
   ]
  },
  {
   "cell_type": "code",
   "execution_count": null,
   "id": "97324b6e",
   "metadata": {
    "id": "97324b6e",
    "outputId": "8e59a3ab-57d0-49a5-f66a-ec0523a1a0bf"
   },
   "outputs": [
    {
     "name": "stdout",
     "output_type": "stream",
     "text": [
      "enter a word :pathaksachin\n",
      "nathaksachip\n"
     ]
    }
   ],
   "source": [
    "# user input swap first and last latter\n",
    "x=input(\"enter a word :\")\n",
    "a=list(x)\n",
    "def anangram(list,pos1,pos2):\n",
    "    list[pos1],list[pos2]=list[pos2],list[pos1]\n",
    "    return list\n",
    "anangram(a,0,(len(x)-1))\n",
    "str=\"\"\n",
    "x1=str.join(a)\n",
    "print(x1)\n"
   ]
  },
  {
   "cell_type": "code",
   "execution_count": null,
   "id": "4e6953f2",
   "metadata": {
    "id": "4e6953f2",
    "outputId": "c9993784-6dcd-4f0d-c4d8-94ac9ffad648"
   },
   "outputs": [
    {
     "name": "stdout",
     "output_type": "stream",
     "text": [
      "harul\n"
     ]
    }
   ],
   "source": [
    "# swap first and last word\n",
    "x=\"rahul\"\n",
    "a=list(x)\n",
    "def anangram(list,pos1,pos2):\n",
    "    list[pos1],list[pos2]=list[pos2],list[pos1]\n",
    "    return list\n",
    "anangram(a,0,2)\n",
    "x1=str.join(a)\n",
    "str=\"\"\n",
    "print(x1)\n"
   ]
  },
  {
   "cell_type": "code",
   "execution_count": null,
   "id": "ef1a7757",
   "metadata": {
    "id": "ef1a7757",
    "outputId": "4872999a-4b25-47ba-a1a7-a2378ee68d9b"
   },
   "outputs": [
    {
     "name": "stdout",
     "output_type": "stream",
     "text": [
      "they are anangram\n"
     ]
    }
   ],
   "source": [
    "world1=\"Ape\"\n",
    "world2=\"pea\"\n",
    "p=world1.upper()\n",
    "q=world2.upper()\n",
    "a=sorted(p)\n",
    "b=sorted(q)\n",
    "if a==b:\n",
    "    print(\"they are anangram\")\n",
    "else:\n",
    "    print(\"they are not anangram\")"
   ]
  },
  {
   "cell_type": "code",
   "execution_count": null,
   "id": "6b832b82",
   "metadata": {
    "id": "6b832b82",
    "outputId": "61524e83-a19b-4c19-c9ef-0e96011d74ee"
   },
   "outputs": [
    {
     "name": "stdout",
     "output_type": "stream",
     "text": [
      "they are anangram\n"
     ]
    }
   ],
   "source": [
    "world1=\"ape\"\n",
    "world2=\"pea\"\n",
    "a=sorted(p)\n",
    "b=sorted(q)\n",
    "if a==b:\n",
    "    print(\"they are anangram\")\n",
    "else:\n",
    "    print(\"they are not anangram\")"
   ]
  },
  {
   "cell_type": "code",
   "execution_count": null,
   "id": "163bbfba",
   "metadata": {
    "id": "163bbfba",
    "outputId": "3828b637-7fe3-4eba-fc0f-eea0a9381e44"
   },
   "outputs": [
    {
     "name": "stdout",
     "output_type": "stream",
     "text": [
      "enter first word :rahul\n",
      "enter second word :hulra\n",
      "they are anangram\n"
     ]
    }
   ],
   "source": [
    "word1=input(\"enter first word :\")\n",
    "word2=input(\"enter second word :\")\n",
    "a=sorted(p)\n",
    "b=sorted(q)\n",
    "if a==b:\n",
    "    print(\"they are anangram\")\n",
    "else:\n",
    "    print(\"they are not anangram\")"
   ]
  },
  {
   "cell_type": "code",
   "execution_count": null,
   "id": "92e97b05",
   "metadata": {
    "id": "92e97b05",
    "outputId": "65a6821f-8d6b-456e-ebeb-5d08fe31aa7a"
   },
   "outputs": [
    {
     "name": "stdout",
     "output_type": "stream",
     "text": [
      "enter first word :rahul\n",
      "enter second word :lahur\n",
      "enter third word :hurla\n",
      "both are anagram\n"
     ]
    }
   ],
   "source": [
    "word1=input(\"enter first word :\")\n",
    "word2=input(\"enter second word :\")\n",
    "word3=input(\"enter third word :\")\n",
    "a=sorted(word1)\n",
    "b=sorted(word2)\n",
    "c=sorted(word3)\n",
    "if a==b==c:\n",
    "    print(\"both are anagram\")\n",
    "elif a==b!=c:\n",
    "    print(\"a and b are anagram but c is not\")\n",
    "elif a!=b==c:\n",
    "    print(\"b and c are anagram but a is not\")\n",
    "elif a==c!=b:\n",
    "    print(\"a and a are anangram but b is not\")\n",
    "else:\n",
    "    print(\"there is no anagram word\")\n"
   ]
  }
 ],
 "metadata": {
  "colab": {
   "include_colab_link": true,
   "provenance": []
  },
  "kernelspec": {
   "display_name": "Python 3 (ipykernel)",
   "language": "python",
   "name": "python3"
  },
  "language_info": {
   "codemirror_mode": {
    "name": "ipython",
    "version": 3
   },
   "file_extension": ".py",
   "mimetype": "text/x-python",
   "name": "python",
   "nbconvert_exporter": "python",
   "pygments_lexer": "ipython3",
   "version": "3.11.4"
  }
 },
 "nbformat": 4,
 "nbformat_minor": 5
}
