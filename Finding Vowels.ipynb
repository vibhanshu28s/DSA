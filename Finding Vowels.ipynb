{
 "cells": [
  {
   "cell_type": "code",
   "execution_count": null,
   "id": "0c4b7139",
   "metadata": {},
   "outputs": [],
   "source": [
    "#Finding Vowels\n",
    "a=\"vibhanshu\"\n",
    "l=list(a)\n",
    "co=0\n",
    "flag=0\n",
    "for j in l:\n",
    "    if(j==\"a\") or(j==\"e\") or(j==\"o\") or(j==\"u\") or (j==\"i\"):\n",
    "        co=co+1\n",
    "        print(j)\n",
    "print(\"Count=\",co)"
   ]
  }
 ],
 "metadata": {
  "kernelspec": {
   "display_name": "Python 3 (ipykernel)",
   "language": "python",
   "name": "python3"
  },
  "language_info": {
   "codemirror_mode": {
    "name": "ipython",
    "version": 3
   },
   "file_extension": ".py",
   "mimetype": "text/x-python",
   "name": "python",
   "nbconvert_exporter": "python",
   "pygments_lexer": "ipython3",
   "version": "3.11.4"
  }
 },
 "nbformat": 4,
 "nbformat_minor": 5
}
