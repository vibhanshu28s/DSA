{
 "cells": [
  {
   "cell_type": "code",
   "execution_count": 10,
   "id": "7b241f0b",
   "metadata": {},
   "outputs": [
    {
     "name": "stdout",
     "output_type": "stream",
     "text": [
      "39\n",
      "Average=  3.9\n",
      "Max Number=  9\n",
      "Min Number=  0\n"
     ]
    }
   ],
   "source": [
    "#Question 1: Array Operations\n",
    "#a) Create an array named numbers containing 10 integer values.\n",
    "\n",
    "from array import *\n",
    "\n",
    "numbers=array(\"i\",[2,4,1,5,6,7,9,0,1,4])\n",
    "\n",
    "#b) Calculate and display the sum of all the numbers in the array.\n",
    "\n",
    "sum=0\n",
    "for i in numbers:\n",
    "    sum=sum+i\n",
    "print(sum)\n",
    "\n",
    "#c) Calculate and display the average of the numbers.\n",
    "\n",
    "print(\"Average= \",sum/10)\n",
    "\n",
    "#d) Find and display the maximum and minimum values in the array.\n",
    "\n",
    "max_num=max(numbers)\n",
    "min_num=min(numbers)\n",
    "print(\"Max Number= \",max_num)\n",
    "print(\"Min Number= \",min_num)"
   ]
  },
  {
   "cell_type": "code",
   "execution_count": 34,
   "id": "8c2c8e7c",
   "metadata": {},
   "outputs": [
    {
     "name": "stdout",
     "output_type": "stream",
     "text": [
      "['livia', 'Emma', 'Amelia', 'Aman', 'Noah', 'Liam', 'Oliver', 'Mateo', 'shruti']\n"
     ]
    }
   ],
   "source": [
    "#Question 2: Array Manipulation #a) Create an array of 8 names.\n",
    "\n",
    "names=[\"livia\",\"Emma\",\"Amelia\",\"Sophia\",\"Noah\",\"Liam\",\"Oliver\",\"Mateo\"]\n",
    "\n",
    "#b) Add two more names to the array.\n",
    "\n",
    "names.append(\"shruti\") \n",
    "names.append(\"Rudra\")\n",
    "\n",
    "#c) Replace the 4th name in the array with a new name.\n",
    "\n",
    "names[3]=\"Aman\"\n",
    "\n",
    "#d) Remove the last name from the array.\n",
    "\n",
    "names.pop()\n",
    "\n",
    "#e) Display the final array of names.\n",
    "\n",
    "print(names)\n"
   ]
  },
  {
   "cell_type": "code",
   "execution_count": 39,
   "id": "3110fdef",
   "metadata": {},
   "outputs": [
    {
     "name": "stdout",
     "output_type": "stream",
     "text": [
      "Enter a number to search in array: 60\n",
      "\n",
      "Number is Available\n"
     ]
    }
   ],
   "source": [
    "#Question 3: Searching in Arrays\n",
    "#a) Create an array of 15 random integers.\n",
    "\n",
    "from array import *\n",
    "\n",
    "numbers=array(\"i\",[24,2,4,21,23,5,6,7,9,0,1,32,56,60,4])\n",
    "\n",
    "#b) Prompt the user to enter a number to search for in the array.\n",
    "\n",
    "search=int(input(\"Enter a number to search in array: \"))\n",
    "\n",
    "#c) Check if the user's input exists in the array and display an appropriate message.\n",
    "\n",
    "for i in numbers:\n",
    "    if(i==search):\n",
    "        print(\"\\nNumber is Available\")\n",
    "\n",
    "        "
   ]
  },
  {
   "cell_type": "code",
   "execution_count": 1,
   "id": "b144be9c",
   "metadata": {},
   "outputs": [
    {
     "name": "stdout",
     "output_type": "stream",
     "text": [
      "array('i', [24, 2, 4, 21, 23, 5, 6, 7, 9, 0, 1, 32])\n",
      "array('i', [0, 1, 2, 4, 5, 6, 7, 9, 21, 23, 24, 32])\n"
     ]
    }
   ],
   "source": [
    "#Question 4: Array Sorting\n",
    "#a) Create an array of 12 integers in random order.\n",
    "from array import *\n",
    "numbers=array(\"i\",[24,2,4,21,23,5,6,7,9,0,1,32])\n",
    "print(numbers)\n",
    "\n",
    "#b) Arrange the array in reverse order.\n",
    "for i in range(0,len(numbers)):\n",
    "    for j in range(0,len(numbers)-1):\n",
    "        if(numbers[j]>numbers[j+1]):\n",
    "            numbers[j],numbers[j+1]=numbers[j+1],numbers[j]\n",
    "\n",
    "#c) Display both the arrays.\n",
    "print(numbers)\n",
    "\n"
   ]
  },
  {
   "cell_type": "code",
   "execution_count": null,
   "id": "c349b696",
   "metadata": {},
   "outputs": [],
   "source": []
  }
 ],
 "metadata": {
  "kernelspec": {
   "display_name": "Python 3 (ipykernel)",
   "language": "python",
   "name": "python3"
  },
  "language_info": {
   "codemirror_mode": {
    "name": "ipython",
    "version": 3
   },
   "file_extension": ".py",
   "mimetype": "text/x-python",
   "name": "python",
   "nbconvert_exporter": "python",
   "pygments_lexer": "ipython3",
   "version": "3.11.4"
  }
 },
 "nbformat": 4,
 "nbformat_minor": 5
}
