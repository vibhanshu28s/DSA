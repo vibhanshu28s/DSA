{
 "cells": [
  {
   "cell_type": "code",
   "execution_count": 3,
   "id": "c712c5ab",
   "metadata": {},
   "outputs": [
    {
     "name": "stdout",
     "output_type": "stream",
     "text": [
      "Eenter Basic 30000\n",
      "Gross Salary=  49400.0\n"
     ]
    }
   ],
   "source": [
    "basic=float(input(\"Eenter Basic \"))\n",
    "hra=(basic*20)/100\n",
    "da=(basic*50)/100\n",
    "pf=(basic*11)/100\n",
    "\n",
    "if(basic>10000):\n",
    "    allo=1700\n",
    "elif(basic>5000):\n",
    "    allo=1500\n",
    "elif(basic>2500):\n",
    "    allo=1300\n",
    "\n",
    "gross_sal=basic+hra+da+allo-pf\n",
    "print(\"Gross Salary= \",gross_sal)"
   ]
  }
 ],
 "metadata": {
  "kernelspec": {
   "display_name": "Python 3 (ipykernel)",
   "language": "python",
   "name": "python3"
  },
  "language_info": {
   "codemirror_mode": {
    "name": "ipython",
    "version": 3
   },
   "file_extension": ".py",
   "mimetype": "text/x-python",
   "name": "python",
   "nbconvert_exporter": "python",
   "pygments_lexer": "ipython3",
   "version": "3.11.4"
  }
 },
 "nbformat": 4,
 "nbformat_minor": 5
}
